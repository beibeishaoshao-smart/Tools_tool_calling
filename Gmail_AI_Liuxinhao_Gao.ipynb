{
 "cells": [
  {
   "cell_type": "code",
   "execution_count": 12,
   "id": "6bfd2b4d",
   "metadata": {},
   "outputs": [
    {
     "name": "stdout",
     "output_type": "stream",
     "text": [
      "Note: you may need to restart the kernel to use updated packages.\n"
     ]
    }
   ],
   "source": [
    "%pip install -qU langchain-google-community\\[gmail\\]"
   ]
  },
  {
   "cell_type": "code",
   "execution_count": 13,
   "id": "d8bf061f",
   "metadata": {},
   "outputs": [],
   "source": [
    "from langchain_google_community import GmailToolkit\n",
    "\n",
    "toolkit = GmailToolkit()"
   ]
  },
  {
   "cell_type": "code",
   "execution_count": 23,
   "id": "bccd83f3",
   "metadata": {},
   "outputs": [
    {
     "data": {
      "text/plain": [
       "True"
      ]
     },
     "execution_count": 23,
     "metadata": {},
     "output_type": "execute_result"
    }
   ],
   "source": [
    "from dotenv import load_dotenv\n",
    "load_dotenv()"
   ]
  },
  {
   "cell_type": "code",
   "execution_count": 33,
   "id": "a8ef29fc",
   "metadata": {},
   "outputs": [
    {
     "name": "stdout",
     "output_type": "stream",
     "text": [
      "✅ Old token deleted. Re-run GmailToolkit to re-authenticate.\n"
     ]
    }
   ],
   "source": [
    "import os\n",
    "\n",
    "# If a token file exists, delete it to force re-auth\n",
    "if os.path.exists(\"token.json\"):\n",
    "    os.remove(\"token.json\")\n",
    "    print(\"✅ Old token deleted. Re-run GmailToolkit to re-authenticate.\")\n",
    "else:\n",
    "    print(\"⚠️ No token file found.\")\n"
   ]
  },
  {
   "cell_type": "code",
   "execution_count": 34,
   "id": "24667568",
   "metadata": {},
   "outputs": [
    {
     "name": "stdout",
     "output_type": "stream",
     "text": [
      "Please visit this URL to authorize this application: https://accounts.google.com/o/oauth2/auth?response_type=code&client_id=560333382753-32umaapbb1u5u0hhkmj1h5s38l7b4v4r.apps.googleusercontent.com&redirect_uri=http%3A%2F%2Flocalhost%3A58230%2F&scope=https%3A%2F%2Fmail.google.com%2F&state=A1tLEBugtz13NzUbTEqZRRhBwFeer7&access_type=offline\n"
     ]
    }
   ],
   "source": [
    "from langchain_google_community import GmailToolkit\n",
    "\n",
    "toolkit = GmailToolkit()"
   ]
  },
  {
   "cell_type": "code",
   "execution_count": 35,
   "id": "f7005c1d",
   "metadata": {},
   "outputs": [],
   "source": [
    "from langchain.tools import tool\n",
    "\n",
    "@tool\n",
    "def check_gmail_from_sender(sender: str) -> str:\n",
    "    \"\"\"Check if a sender has sent you any emails.\"\"\"\n",
    "    toolkit = GmailToolkit()  # Reuse toolkit with auth\n",
    "    search_tool = [t for t in toolkit.get_tools() if t.name == \"search_gmail\"][0]\n",
    "    return search_tool.run(f\"from:{sender}\")\n"
   ]
  },
  {
   "cell_type": "code",
   "execution_count": 36,
   "id": "77131bfc",
   "metadata": {},
   "outputs": [],
   "source": [
    "from langchain.agents import initialize_agent\n",
    "from langchain.agents.agent_types import AgentType\n",
    "from langchain.llms import OpenAI\n",
    "\n",
    "# Initialize OpenAI (replace with ChatOpenAI if using gpt-4)\n",
    "llm = OpenAI(temperature=0)\n",
    "\n",
    "# Register your tool\n",
    "tools = [check_gmail_from_sender]\n",
    "\n",
    "# Build agent using only your custom safe tool\n",
    "agent = initialize_agent(\n",
    "    tools=tools,\n",
    "    llm=llm,\n",
    "    agent=AgentType.ZERO_SHOT_REACT_DESCRIPTION,\n",
    "    verbose=True\n",
    ")\n"
   ]
  },
  {
   "cell_type": "code",
   "execution_count": 38,
   "id": "a5150e98",
   "metadata": {},
   "outputs": [
    {
     "name": "stdout",
     "output_type": "stream",
     "text": [
      "\n",
      "\n",
      "\u001b[1m> Entering new AgentExecutor chain...\u001b[0m\n",
      "\u001b[32;1m\u001b[1;3m I should check my email inbox to see if I have received any emails from this sender.\n",
      "Action: check_gmail_from_sender\n",
      "Action Input: gaoliuxinhao@gmail.com\u001b[0m\n",
      "Observation: \u001b[36;1m\u001b[1;3m[]\u001b[0m\n",
      "Thought:\u001b[32;1m\u001b[1;3m An empty list means that I have not received any emails from this sender.\n",
      "Final Answer: No, gaoliuxinhao@gmail.com has not sent me any emails.\u001b[0m\n",
      "\n",
      "\u001b[1m> Finished chain.\u001b[0m\n",
      "\n",
      "✅ Response:\n",
      " {'input': 'Has gaoliuxinhao@gmail.com sent me any emails?', 'output': 'No, gaoliuxinhao@gmail.com has not sent me any emails.'}\n"
     ]
    }
   ],
   "source": [
    "# Replace this with the real sender you want to check\n",
    "query = \"Has gaoliuxinhao@gmail.com sent me any emails?\"\n",
    "\n",
    "# Use .invoke() instead of deprecated .run()\n",
    "response = agent.invoke(query)\n",
    "\n",
    "# Show response\n",
    "print(\"\\n✅ Response:\\n\", response)\n"
   ]
  },
  {
   "cell_type": "code",
   "execution_count": null,
   "id": "d5f653b9",
   "metadata": {},
   "outputs": [],
   "source": []
  },
  {
   "cell_type": "code",
   "execution_count": null,
   "id": "06aaff56",
   "metadata": {},
   "outputs": [],
   "source": []
  },
  {
   "cell_type": "code",
   "execution_count": null,
   "id": "c8fb6155",
   "metadata": {},
   "outputs": [],
   "source": []
  }
 ],
 "metadata": {
  "kernelspec": {
   "display_name": "base",
   "language": "python",
   "name": "python3"
  },
  "language_info": {
   "codemirror_mode": {
    "name": "ipython",
    "version": 3
   },
   "file_extension": ".py",
   "mimetype": "text/x-python",
   "name": "python",
   "nbconvert_exporter": "python",
   "pygments_lexer": "ipython3",
   "version": "3.12.7"
  }
 },
 "nbformat": 4,
 "nbformat_minor": 5
}
