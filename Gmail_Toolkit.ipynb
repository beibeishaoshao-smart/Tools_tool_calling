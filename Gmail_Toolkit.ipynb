{
 "cells": [
  {
   "cell_type": "code",
   "execution_count": 1,
   "id": "b0561308",
   "metadata": {},
   "outputs": [],
   "source": [
    "import os\n",
    "\n",
    "os.environ[\"LANGSMITH_TRACING\"] = \"true\"\n",
    "os.environ[\"LANGSMITH_API_KEY\"] = \"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\""
   ]
  },
  {
   "cell_type": "code",
   "execution_count": 2,
   "id": "676dc3a5",
   "metadata": {},
   "outputs": [
    {
     "name": "stdout",
     "output_type": "stream",
     "text": [
      "Note: you may need to restart the kernel to use updated packages.\n"
     ]
    }
   ],
   "source": [
    "%pip install -qU langchain-google-community\\[gmail\\]"
   ]
  },
  {
   "cell_type": "code",
   "execution_count": 5,
   "id": "936abe12",
   "metadata": {},
   "outputs": [
    {
     "name": "stdout",
     "output_type": "stream",
     "text": [
      "Please visit this URL to authorize this application: https://accounts.google.com/o/oauth2/auth?response_type=code&client_id=560333382753-32umaapbb1u5u0hhkmj1h5s38l7b4v4r.apps.googleusercontent.com&redirect_uri=http%3A%2F%2Flocalhost%3A57528%2F&scope=https%3A%2F%2Fmail.google.com%2F&state=5zO39b39KgtvbHOha2bwR9auujyYXh&access_type=offline\n"
     ]
    }
   ],
   "source": [
    "from langchain_google_community import GmailToolkit\n",
    "\n",
    "toolkit = GmailToolkit()"
   ]
  },
  {
   "cell_type": "code",
   "execution_count": 6,
   "id": "1355bc82",
   "metadata": {},
   "outputs": [],
   "source": [
    "from langchain_google_community.gmail.utils import (\n",
    "    build_resource_service,\n",
    "    get_gmail_credentials,\n",
    ")\n",
    "\n",
    "# Can review scopes here https://developers.google.com/gmail/api/auth/scopes\n",
    "# For instance, readonly scope is 'https://www.googleapis.com/auth/gmail.readonly'\n",
    "credentials = get_gmail_credentials(\n",
    "    token_file=\"token.json\",\n",
    "    scopes=[\"https://mail.google.com/\"],\n",
    "    client_secrets_file=\"credentials.json\",\n",
    ")\n",
    "api_resource = build_resource_service(credentials=credentials)\n",
    "toolkit = GmailToolkit(api_resource=api_resource)"
   ]
  },
  {
   "cell_type": "code",
   "execution_count": 7,
   "id": "7960b2cc",
   "metadata": {},
   "outputs": [
    {
     "data": {
      "text/plain": [
       "[GmailCreateDraft(api_resource=<googleapiclient.discovery.Resource object at 0x15df74aa0>),\n",
       " GmailSendMessage(api_resource=<googleapiclient.discovery.Resource object at 0x15df74aa0>),\n",
       " GmailSearch(api_resource=<googleapiclient.discovery.Resource object at 0x15df74aa0>),\n",
       " GmailGetMessage(api_resource=<googleapiclient.discovery.Resource object at 0x15df74aa0>),\n",
       " GmailGetThread(api_resource=<googleapiclient.discovery.Resource object at 0x15df74aa0>)]"
      ]
     },
     "execution_count": 7,
     "metadata": {},
     "output_type": "execute_result"
    }
   ],
   "source": [
    "tools = toolkit.get_tools()\n",
    "tools"
   ]
  },
  {
   "cell_type": "code",
   "execution_count": 8,
   "id": "e5a41b30",
   "metadata": {},
   "outputs": [
    {
     "name": "stdout",
     "output_type": "stream",
     "text": [
      "Note: you may need to restart the kernel to use updated packages.\n"
     ]
    }
   ],
   "source": [
    "pip install -qU \"langchain[openai]\""
   ]
  },
  {
   "cell_type": "code",
   "execution_count": 11,
   "id": "fb44cc71",
   "metadata": {},
   "outputs": [
    {
     "data": {
      "text/plain": [
       "True"
      ]
     },
     "execution_count": 11,
     "metadata": {},
     "output_type": "execute_result"
    }
   ],
   "source": [
    "from dotenv import load_dotenv\n",
    "load_dotenv()"
   ]
  },
  {
   "cell_type": "code",
   "execution_count": 12,
   "id": "05f7a5a6",
   "metadata": {},
   "outputs": [],
   "source": [
    "from langchain.chat_models import init_chat_model\n",
    "\n",
    "llm = init_chat_model(\"gpt-4o-mini\", model_provider=\"openai\")"
   ]
  },
  {
   "cell_type": "code",
   "execution_count": 13,
   "id": "31cd7b8d",
   "metadata": {},
   "outputs": [],
   "source": [
    "from langgraph.prebuilt import create_react_agent\n",
    "\n",
    "agent_executor = create_react_agent(llm, tools)"
   ]
  },
  {
   "cell_type": "code",
   "execution_count": 14,
   "id": "78bb62a2",
   "metadata": {},
   "outputs": [
    {
     "name": "stdout",
     "output_type": "stream",
     "text": [
      "================================\u001b[1m Human Message \u001b[0m=================================\n",
      "\n",
      "Draft an email to fake@fake.com thanking them for coffee.\n",
      "==================================\u001b[1m Ai Message \u001b[0m==================================\n",
      "Tool Calls:\n",
      "  create_gmail_draft (call_9a6JXLv9CH5GIDnZcDEGKWx9)\n",
      " Call ID: call_9a6JXLv9CH5GIDnZcDEGKWx9\n",
      "  Args:\n",
      "    message: Hi,\n",
      "\n",
      "I just wanted to take a moment to thank you for the coffee we shared the other day. It was a great way to catch up, and I really appreciated the time and conversation.\n",
      "\n",
      "Looking forward to our next meet-up!\n",
      "\n",
      "Best regards,\n",
      "\n",
      "[Your Name]\n",
      "    to: ['fake@fake.com']\n",
      "    subject: Thank You for Coffee!\n",
      "=================================\u001b[1m Tool Message \u001b[0m=================================\n",
      "Name: create_gmail_draft\n",
      "\n",
      "Error: Exception('An error occurred: <HttpError 403 when requesting https://gmail.googleapis.com/gmail/v1/users/me/drafts?alt=json returned \"Gmail API has not been used in project 560333382753 before or it is disabled. Enable it by visiting https://console.developers.google.com/apis/api/gmail.googleapis.com/overview?project=560333382753 then retry. If you enabled this API recently, wait a few minutes for the action to propagate to our systems and retry.\". Details: \"[{\\'message\\': \\'Gmail API has not been used in project 560333382753 before or it is disabled. Enable it by visiting https://console.developers.google.com/apis/api/gmail.googleapis.com/overview?project=560333382753 then retry. If you enabled this API recently, wait a few minutes for the action to propagate to our systems and retry.\\', \\'domain\\': \\'usageLimits\\', \\'reason\\': \\'accessNotConfigured\\', \\'extendedHelp\\': \\'https://console.developers.google.com\\'}]\">')\n",
      " Please fix your mistakes.\n",
      "==================================\u001b[1m Ai Message \u001b[0m==================================\n",
      "\n",
      "It seems there was an error in creating the draft email. I cannot access the Gmail API to perform actions like drafting emails at this moment. However, I can provide you with the text of the email, and you can easily copy and paste it into your email client.\n",
      "\n",
      "Here's the email:\n",
      "\n",
      "---\n",
      "\n",
      "**Subject:** Thank You for Coffee!\n",
      "\n",
      "Hi,\n",
      "\n",
      "I just wanted to take a moment to thank you for the coffee we shared the other day. It was a great way to catch up, and I really appreciated the time and conversation.\n",
      "\n",
      "Looking forward to our next meet-up!\n",
      "\n",
      "Best regards,\n",
      "\n",
      "[Your Name]\n",
      "\n",
      "---\n",
      "\n",
      "Feel free to customize it as you like before sending!\n"
     ]
    }
   ],
   "source": [
    "example_query = \"Draft an email to fake@fake.com thanking them for coffee.\"\n",
    "\n",
    "events = agent_executor.stream(\n",
    "    {\"messages\": [(\"user\", example_query)]},\n",
    "    stream_mode=\"values\",\n",
    ")\n",
    "for event in events:\n",
    "    event[\"messages\"][-1].pretty_print()"
   ]
  },
  {
   "cell_type": "code",
   "execution_count": null,
   "id": "ab301691",
   "metadata": {},
   "outputs": [],
   "source": []
  }
 ],
 "metadata": {
  "kernelspec": {
   "display_name": "base",
   "language": "python",
   "name": "python3"
  },
  "language_info": {
   "codemirror_mode": {
    "name": "ipython",
    "version": 3
   },
   "file_extension": ".py",
   "mimetype": "text/x-python",
   "name": "python",
   "nbconvert_exporter": "python",
   "pygments_lexer": "ipython3",
   "version": "3.12.7"
  }
 },
 "nbformat": 4,
 "nbformat_minor": 5
}
